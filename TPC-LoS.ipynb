{
 "cells": [
  {
   "cell_type": "code",
   "execution_count": 1,
   "id": "83194582",
   "metadata": {},
   "outputs": [],
   "source": [
    "import os\n",
    "import torch\n",
    "import torch.nn as nn\n",
    "import torch.nn.functional as F\n",
    "from eICU_preprocessing.reader import eICUReader"
   ]
  },
  {
   "cell_type": "markdown",
   "id": "407b72fd",
   "metadata": {},
   "source": [
    "## Load the data"
   ]
  },
  {
   "cell_type": "code",
   "execution_count": 6,
   "id": "1e83a139",
   "metadata": {},
   "outputs": [],
   "source": [
    "DATA_PATH = \"D:/Projects/CS598/DLH/DLH-Term-Project/data/\"\n",
    "device = torch.device('cuda')"
   ]
  },
  {
   "cell_type": "code",
   "execution_count": 7,
   "id": "3e446577",
   "metadata": {},
   "outputs": [],
   "source": [
    "def load_data(data_path=DATA_PATH):\n",
    "    datareader = eICUReader\n",
    "    train_datareader = datareader(data_path + 'train', device=device,\n",
    "                                       labs_only=False, no_labs=True)\n",
    "    val_datareader = datareader(data_path + 'val', device=device,\n",
    "                                     labs_only=False, no_labs=True)\n",
    "    \n",
    "    return train_datareader, val_datareader\n",
    "\n",
    "train_loader, val_loader = load_data()"
   ]
  },
  {
   "cell_type": "markdown",
   "id": "c25844b9",
   "metadata": {},
   "source": [
    "## Define the model"
   ]
  },
  {
   "cell_type": "code",
   "execution_count": null,
   "id": "693b45f5",
   "metadata": {},
   "outputs": [],
   "source": [
    "n_layers = 9"
   ]
  },
  {
   "cell_type": "code",
   "execution_count": null,
   "id": "5ee1abd0",
   "metadata": {},
   "outputs": [],
   "source": [
    "class TPC(nn.Module):\n",
    "    def __init__(self):\n",
    "        super(TPC, self).__init__()\n",
    "        self.main_dropout = nn.Dropout(p=0.45)\n",
    "        self.temp_dropout = nn.Dropout(p=0.05)\n",
    "        self.layer_modules = nn.ModuleDict()\n",
    "        temp = nn.Conv1d(in_channels=174,\n",
    "                         out_channels=1044,\n",
    "                         kernel_size=4,\n",
    "                         stride=1,\n",
    "                         groups=87)\n",
    "        bn_temp = nn.BatchNorm1d(num_features=1044, momentum=0.1)\n",
    "        point = nn.Linear(in_features=241, out_features=13)\n",
    "        bn_point = nn.BatchNorm1d(num_features=13, momentum=0.1)\n",
    "\n",
    "        self.layer_modules[\"0\"] = nn.ModuleDict({\n",
    "            'temp': temp,\n",
    "            'bn_temp': bn_temp,\n",
    "            'point': point,\n",
    "            'bn_point': bn_point})\n",
    "\n",
    "    def forward(self, x):\n",
    "        x_temp = self.temp_dropout(self.layer_modules[\"0\"]['bn_temp'](self.layer_modules[\"0\"]['temp'](x)))\n",
    "        x_point = self.main_dropout(self.layer_modules[\"0\"]['bn_point'](self.layer_modules[\"0\"]['point'](x)))\n",
    "        return x"
   ]
  }
 ],
 "metadata": {
  "kernelspec": {
   "display_name": "Python 3 (ipykernel)",
   "language": "python",
   "name": "python3"
  },
  "language_info": {
   "codemirror_mode": {
    "name": "ipython",
    "version": 3
   },
   "file_extension": ".py",
   "mimetype": "text/x-python",
   "name": "python",
   "nbconvert_exporter": "python",
   "pygments_lexer": "ipython3",
   "version": "3.8.16"
  }
 },
 "nbformat": 4,
 "nbformat_minor": 5
}
