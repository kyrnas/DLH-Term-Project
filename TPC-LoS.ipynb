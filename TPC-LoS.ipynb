{
 "cells": [
  {
   "cell_type": "code",
   "execution_count": 1,
   "id": "83194582",
   "metadata": {},
   "outputs": [],
   "source": [
    "import torch\n",
    "from pyhealth.datasets import eICUDataset"
   ]
  },
  {
   "cell_type": "code",
   "execution_count": null,
   "id": "65310d07",
   "metadata": {},
   "outputs": [
    {
     "name": "stderr",
     "output_type": "stream",
     "text": [
      "Parsing patients: 100%|██████████████████████████████████████████████████████| 166355/166355 [01:56<00:00, 1422.68it/s]\n",
      "Parsing diagnosis: 100%|█████████████████████████████████████████████████████| 155494/155494 [00:56<00:00, 2742.67it/s]\n",
      "Parsing medication: 100%|████████████████████████████████████████████████████| 162208/162208 [01:07<00:00, 2399.15it/s]\n",
      "Parsing lab:  15%|█████████                                                    | 28905/195730 [01:12<03:50, 724.33it/s]"
     ]
    }
   ],
   "source": [
    "dataset = eICUDataset(\n",
    "        root=\"D:/Downloads/eicu-collaborative-research-database-2.0\",\n",
    "        tables=[\"diagnosis\", \"medication\", \"lab\", \"treatment\", \"physicalExam\"],\n",
    "    )\n",
    "dataset.stat()\n",
    "dataset.info()"
   ]
  }
 ],
 "metadata": {
  "kernelspec": {
   "display_name": "Python 3 (ipykernel)",
   "language": "python",
   "name": "python3"
  },
  "language_info": {
   "codemirror_mode": {
    "name": "ipython",
    "version": 3
   },
   "file_extension": ".py",
   "mimetype": "text/x-python",
   "name": "python",
   "nbconvert_exporter": "python",
   "pygments_lexer": "ipython3",
   "version": "3.7.16"
  }
 },
 "nbformat": 4,
 "nbformat_minor": 5
}
